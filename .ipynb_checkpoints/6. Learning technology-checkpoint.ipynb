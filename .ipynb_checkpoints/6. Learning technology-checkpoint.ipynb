{
 "cells": [
  {
   "cell_type": "markdown",
   "metadata": {},
   "source": [
    "## SGD(확률적 경사 하강법)"
   ]
  },
  {
   "cell_type": "code",
   "execution_count": 1,
   "metadata": {},
   "outputs": [],
   "source": [
    "class SGD:\n",
    "    def __init__(self,lr=0.01):\n",
    "        self.lr=lr\n",
    "        return\n",
    "    def update(self,params,grads):\n",
    "        for key in params.keys():\n",
    "            params[key] -= grads[key]*self.lr\n",
    "            \n",
    "        return"
   ]
  },
  {
   "cell_type": "code",
   "execution_count": 2,
   "metadata": {},
   "outputs": [],
   "source": [
    "import numpy as np\n",
    "import matplotlib.pyplot as plt"
   ]
  },
  {
   "cell_type": "markdown",
   "metadata": {},
   "source": [
    "## Momentum(모맨텀)"
   ]
  },
  {
   "cell_type": "code",
   "execution_count": 3,
   "metadata": {},
   "outputs": [],
   "source": [
    "class Momentum:\n",
    "    def __init__(self,lr=0.01,momentum=0.9):\n",
    "        self.lr=lr\n",
    "        slef.momentum=momentum\n",
    "        self.v=None\n",
    "        return\n",
    "    def update(self,params,grads):\n",
    "        if self.v is None:\n",
    "            self.v={}\n",
    "            for key,val in params.items():\n",
    "                self.v[key]= np.zeros.like(val)\n",
    "                \n",
    "            \n",
    "        for key in params.keys():\n",
    "            self.v[key] = self.momentum*self.v[key] - self.lr * grads[key]\n",
    "            params[key] += self.v[key]\n",
    "        "
   ]
  },
  {
   "cell_type": "markdown",
   "metadata": {},
   "source": [
    "## AdaGrad\n",
    "#### 학습률을 각 매개변수에 맞춰서 값을 서서히 줄여준다."
   ]
  },
  {
   "cell_type": "code",
   "execution_count": 4,
   "metadata": {},
   "outputs": [],
   "source": [
    "class AdaGrad:\n",
    "    def __init__(self,lr=0.01):\n",
    "        self.lr=lr\n",
    "        self.h=None\n",
    "        return\n",
    "    def update(self,params,grads):\n",
    "        if self.h is None:\n",
    "            self.h={}\n",
    "            for key,val in parms.items():\n",
    "                self.h[key] = np.zeros.like(val)\n",
    "                \n",
    "        for key in params.keys():\n",
    "            self.h[key] += (grads[key] * grads[key])\n",
    "            params[key] -= self.lr* (grads[key]/ np.sqrt(self.h[key] + 1e-7) )"
   ]
  },
  {
   "cell_type": "markdown",
   "metadata": {},
   "source": [
    "## Adam\n",
    "#### Momentum + AdaGrad : 각 매개변수 기울기에 가속도를 부여한 후, 알맞게 학습률을 조정"
   ]
  },
  {
   "cell_type": "code",
   "execution_count": null,
   "metadata": {},
   "outputs": [],
   "source": []
  },
  {
   "cell_type": "markdown",
   "metadata": {},
   "source": [
    "## Compare optimizor using mnist"
   ]
  },
  {
   "cell_type": "code",
   "execution_count": 5,
   "metadata": {},
   "outputs": [
    {
     "name": "stdout",
     "output_type": "stream",
     "text": [
      "===========iteration:0===========\n",
      "SGD:2.363585153768799\n",
      "Momentum:2.3787704646671974\n",
      "AdaGrad:2.7654734602118536\n",
      "Adam:2.1613341841971803\n",
      "===========iteration:100===========\n",
      "SGD:1.7862968711417078\n",
      "Momentum:0.3452173361327878\n",
      "AdaGrad:0.11796084847726351\n",
      "Adam:0.25561764041195256\n",
      "===========iteration:200===========\n",
      "SGD:1.0142995433770943\n",
      "Momentum:0.3031258861332419\n",
      "AdaGrad:0.1107917261075654\n",
      "Adam:0.22892579655216733\n",
      "===========iteration:300===========\n",
      "SGD:0.6610596454077939\n",
      "Momentum:0.10637806238913931\n",
      "AdaGrad:0.04513344160756745\n",
      "Adam:0.1087384474651867\n",
      "===========iteration:400===========\n",
      "SGD:0.6153564017271395\n",
      "Momentum:0.24451842853592737\n",
      "AdaGrad:0.11889861067584201\n",
      "Adam:0.15406837522739128\n",
      "===========iteration:500===========\n",
      "SGD:0.36165720188641337\n",
      "Momentum:0.08798245848918418\n",
      "AdaGrad:0.026163019322186946\n",
      "Adam:0.04476020918269813\n",
      "===========iteration:600===========\n",
      "SGD:0.32859221114632575\n",
      "Momentum:0.12355522273023696\n",
      "AdaGrad:0.06086969529606699\n",
      "Adam:0.08918840373721257\n",
      "===========iteration:700===========\n",
      "SGD:0.3441989405944651\n",
      "Momentum:0.13129468514542275\n",
      "AdaGrad:0.06893239407447971\n",
      "Adam:0.11691912439771732\n",
      "===========iteration:800===========\n",
      "SGD:0.28814270340517145\n",
      "Momentum:0.0870679781578814\n",
      "AdaGrad:0.053895950361247905\n",
      "Adam:0.0845788100025747\n",
      "===========iteration:900===========\n",
      "SGD:0.26957073794914144\n",
      "Momentum:0.1555663845734187\n",
      "AdaGrad:0.03177178266551286\n",
      "Adam:0.10390140154454673\n",
      "===========iteration:1000===========\n",
      "SGD:0.2520109367702281\n",
      "Momentum:0.08168037692751476\n",
      "AdaGrad:0.04838185763898732\n",
      "Adam:0.06793829305892868\n",
      "===========iteration:1100===========\n",
      "SGD:0.33293908584332865\n",
      "Momentum:0.07600955297136304\n",
      "AdaGrad:0.05578978094334061\n",
      "Adam:0.06208419357114848\n",
      "===========iteration:1200===========\n",
      "SGD:0.29360713691420853\n",
      "Momentum:0.04396082897616578\n",
      "AdaGrad:0.03342010022325348\n",
      "Adam:0.028386885641382337\n",
      "===========iteration:1300===========\n",
      "SGD:0.1541013327609025\n",
      "Momentum:0.05328709817668041\n",
      "AdaGrad:0.02549554828572933\n",
      "Adam:0.06239316074382534\n",
      "===========iteration:1400===========\n",
      "SGD:0.20574998863401817\n",
      "Momentum:0.05819593728860264\n",
      "AdaGrad:0.03751868729449953\n",
      "Adam:0.027145073343849885\n",
      "===========iteration:1500===========\n",
      "SGD:0.22215114213027104\n",
      "Momentum:0.05702454250119813\n",
      "AdaGrad:0.04260959161699967\n",
      "Adam:0.05057694728141954\n",
      "===========iteration:1600===========\n",
      "SGD:0.1542168425743998\n",
      "Momentum:0.03665597518050395\n",
      "AdaGrad:0.029997273373874103\n",
      "Adam:0.0555488046968409\n",
      "===========iteration:1700===========\n",
      "SGD:0.2044946936069404\n",
      "Momentum:0.09479440966269274\n",
      "AdaGrad:0.04505240838556037\n",
      "Adam:0.06458533513950647\n"
     ]
    },
    {
     "ename": "KeyboardInterrupt",
     "evalue": "",
     "output_type": "error",
     "traceback": [
      "\u001b[1;31m---------------------------------------------------------------------------\u001b[0m",
      "\u001b[1;31mKeyboardInterrupt\u001b[0m                         Traceback (most recent call last)",
      "\u001b[1;32m<ipython-input-5-75d2529a4efd>\u001b[0m in \u001b[0;36m<module>\u001b[1;34m\u001b[0m\n\u001b[0;32m     42\u001b[0m \u001b[1;33m\u001b[0m\u001b[0m\n\u001b[0;32m     43\u001b[0m     \u001b[1;32mfor\u001b[0m \u001b[0mkey\u001b[0m \u001b[1;32min\u001b[0m \u001b[0moptimizers\u001b[0m\u001b[1;33m.\u001b[0m\u001b[0mkeys\u001b[0m\u001b[1;33m(\u001b[0m\u001b[1;33m)\u001b[0m\u001b[1;33m:\u001b[0m\u001b[1;33m\u001b[0m\u001b[1;33m\u001b[0m\u001b[0m\n\u001b[1;32m---> 44\u001b[1;33m         \u001b[0mgrads\u001b[0m \u001b[1;33m=\u001b[0m \u001b[0mnetworks\u001b[0m\u001b[1;33m[\u001b[0m\u001b[0mkey\u001b[0m\u001b[1;33m]\u001b[0m\u001b[1;33m.\u001b[0m\u001b[0mgradient\u001b[0m\u001b[1;33m(\u001b[0m\u001b[0mx_batch\u001b[0m\u001b[1;33m,\u001b[0m \u001b[0mt_batch\u001b[0m\u001b[1;33m)\u001b[0m\u001b[1;33m\u001b[0m\u001b[1;33m\u001b[0m\u001b[0m\n\u001b[0m\u001b[0;32m     45\u001b[0m         \u001b[0moptimizers\u001b[0m\u001b[1;33m[\u001b[0m\u001b[0mkey\u001b[0m\u001b[1;33m]\u001b[0m\u001b[1;33m.\u001b[0m\u001b[0mupdate\u001b[0m\u001b[1;33m(\u001b[0m\u001b[0mnetworks\u001b[0m\u001b[1;33m[\u001b[0m\u001b[0mkey\u001b[0m\u001b[1;33m]\u001b[0m\u001b[1;33m.\u001b[0m\u001b[0mparams\u001b[0m\u001b[1;33m,\u001b[0m \u001b[0mgrads\u001b[0m\u001b[1;33m)\u001b[0m\u001b[1;33m\u001b[0m\u001b[1;33m\u001b[0m\u001b[0m\n\u001b[0;32m     46\u001b[0m \u001b[1;33m\u001b[0m\u001b[0m\n",
      "\u001b[1;32m~\\DeepLearningFromScratch\\common\\multi_layer_net.py\u001b[0m in \u001b[0;36mgradient\u001b[1;34m(self, x, t)\u001b[0m\n\u001b[0;32m    149\u001b[0m         \u001b[0mlayers\u001b[0m\u001b[1;33m.\u001b[0m\u001b[0mreverse\u001b[0m\u001b[1;33m(\u001b[0m\u001b[1;33m)\u001b[0m\u001b[1;33m\u001b[0m\u001b[1;33m\u001b[0m\u001b[0m\n\u001b[0;32m    150\u001b[0m         \u001b[1;32mfor\u001b[0m \u001b[0mlayer\u001b[0m \u001b[1;32min\u001b[0m \u001b[0mlayers\u001b[0m\u001b[1;33m:\u001b[0m\u001b[1;33m\u001b[0m\u001b[1;33m\u001b[0m\u001b[0m\n\u001b[1;32m--> 151\u001b[1;33m             \u001b[0mdout\u001b[0m \u001b[1;33m=\u001b[0m \u001b[0mlayer\u001b[0m\u001b[1;33m.\u001b[0m\u001b[0mbackward\u001b[0m\u001b[1;33m(\u001b[0m\u001b[0mdout\u001b[0m\u001b[1;33m)\u001b[0m\u001b[1;33m\u001b[0m\u001b[1;33m\u001b[0m\u001b[0m\n\u001b[0m\u001b[0;32m    152\u001b[0m \u001b[1;33m\u001b[0m\u001b[0m\n\u001b[0;32m    153\u001b[0m         \u001b[1;31m# 결과 저장\u001b[0m\u001b[1;33m\u001b[0m\u001b[1;33m\u001b[0m\u001b[1;33m\u001b[0m\u001b[0m\n",
      "\u001b[1;32m~\\DeepLearningFromScratch\\common\\layers.py\u001b[0m in \u001b[0;36mbackward\u001b[1;34m(self, dout)\u001b[0m\n\u001b[0;32m     17\u001b[0m \u001b[1;33m\u001b[0m\u001b[0m\n\u001b[0;32m     18\u001b[0m     \u001b[1;32mdef\u001b[0m \u001b[0mbackward\u001b[0m\u001b[1;33m(\u001b[0m\u001b[0mself\u001b[0m\u001b[1;33m,\u001b[0m \u001b[0mdout\u001b[0m\u001b[1;33m)\u001b[0m\u001b[1;33m:\u001b[0m\u001b[1;33m\u001b[0m\u001b[1;33m\u001b[0m\u001b[0m\n\u001b[1;32m---> 19\u001b[1;33m         \u001b[0mdout\u001b[0m\u001b[1;33m[\u001b[0m\u001b[0mself\u001b[0m\u001b[1;33m.\u001b[0m\u001b[0mmask\u001b[0m\u001b[1;33m]\u001b[0m \u001b[1;33m=\u001b[0m \u001b[1;36m0\u001b[0m\u001b[1;33m\u001b[0m\u001b[1;33m\u001b[0m\u001b[0m\n\u001b[0m\u001b[0;32m     20\u001b[0m         \u001b[0mdx\u001b[0m \u001b[1;33m=\u001b[0m \u001b[0mdout\u001b[0m\u001b[1;33m\u001b[0m\u001b[1;33m\u001b[0m\u001b[0m\n\u001b[0;32m     21\u001b[0m \u001b[1;33m\u001b[0m\u001b[0m\n",
      "\u001b[1;31mKeyboardInterrupt\u001b[0m: "
     ]
    }
   ],
   "source": [
    "# coding: utf-8\n",
    "import os\n",
    "import sys\n",
    "sys.path.append(os.curdir)  # 부모 디렉터리의 파일을 가져올 수 있도록 설정\n",
    "import matplotlib.pyplot as plt\n",
    "from dataset.mnist import load_mnist\n",
    "from common.util import smooth_curve\n",
    "from common.multi_layer_net import MultiLayerNet\n",
    "from common.optimizer import *\n",
    "\n",
    "\n",
    "# 0. MNIST 데이터 읽기==========\n",
    "(x_train, t_train), (x_test, t_test) = load_mnist(normalize=True)\n",
    "\n",
    "train_size = x_train.shape[0]\n",
    "batch_size = 128\n",
    "max_iterations = 2000\n",
    "\n",
    "\n",
    "# 1. 실험용 설정==========\n",
    "optimizers = {}\n",
    "optimizers['SGD'] = SGD()\n",
    "optimizers['Momentum'] = Momentum()\n",
    "optimizers['AdaGrad'] = AdaGrad()\n",
    "optimizers['Adam'] = Adam()\n",
    "#optimizers['RMSprop'] = RMSprop()\n",
    "\n",
    "networks = {}\n",
    "train_loss = {}\n",
    "for key in optimizers.keys():\n",
    "    networks[key] = MultiLayerNet(\n",
    "        input_size=784, hidden_size_list=[100, 100, 100, 100],\n",
    "        output_size=10)\n",
    "    train_loss[key] = []    \n",
    "\n",
    "\n",
    "# 2. 훈련 시작==========\n",
    "for i in range(max_iterations):\n",
    "    batch_mask = np.random.choice(train_size, batch_size)\n",
    "    x_batch = x_train[batch_mask]\n",
    "    t_batch = t_train[batch_mask]\n",
    "    \n",
    "    for key in optimizers.keys():\n",
    "        grads = networks[key].gradient(x_batch, t_batch)\n",
    "        optimizers[key].update(networks[key].params, grads)\n",
    "    \n",
    "        loss = networks[key].loss(x_batch, t_batch)\n",
    "        train_loss[key].append(loss)\n",
    "    \n",
    "    if i % 100 == 0:\n",
    "        print( \"===========\" + \"iteration:\" + str(i) + \"===========\")\n",
    "        for key in optimizers.keys():\n",
    "            loss = networks[key].loss(x_batch, t_batch)\n",
    "            print(key + \":\" + str(loss))\n",
    "\n",
    "\n",
    "# 3. 그래프 그리기==========\n",
    "markers = {\"SGD\": \"o\", \"Momentum\": \"x\", \"AdaGrad\": \"s\", \"Adam\": \"D\"}\n",
    "x = np.arange(max_iterations)\n",
    "for key in optimizers.keys():\n",
    "    plt.plot(x, smooth_curve(train_loss[key]), marker=markers[key], markevery=100, label=key)\n",
    "plt.xlabel(\"iterations\")\n",
    "plt.ylabel(\"loss\")\n",
    "plt.ylim(0, 1)\n",
    "plt.legend()\n",
    "plt.show()\n"
   ]
  },
  {
   "cell_type": "code",
   "execution_count": 7,
   "metadata": {},
   "outputs": [
    {
     "data": {
      "text/plain": [
       "-1.1490559837160699"
      ]
     },
     "execution_count": 7,
     "metadata": {},
     "output_type": "execute_result"
    }
   ],
   "source": [
    "np.random.randn()"
   ]
  },
  {
   "cell_type": "code",
   "execution_count": 8,
   "metadata": {},
   "outputs": [],
   "source": [
    "import numpy as np\n",
    "import matplotlib.pyplot as plt"
   ]
  },
  {
   "cell_type": "code",
   "execution_count": 9,
   "metadata": {},
   "outputs": [],
   "source": [
    "def sigmoid(x):\n",
    "    return  1/(1 + np.exp(-x))"
   ]
  },
  {
   "cell_type": "markdown",
   "metadata": {},
   "source": [
    "## 기울기 소실\n",
    "#### 표준편차 = 1"
   ]
  },
  {
   "cell_type": "code",
   "execution_count": 10,
   "metadata": {},
   "outputs": [],
   "source": [
    "x= np.random.randn(1000,100)\n",
    "node_num=100\n",
    "hidden_layer_size=5\n",
    "activations={}\n",
    "\n",
    "for i in range(hidden_layer_size):\n",
    "    if i!=0:\n",
    "        x= activations[i-1]\n",
    "        \n",
    "    w = np.random.randn(node_num,node_num)*1\n",
    "    a = np.dot(x,w)\n",
    "    z = sigmoid(a)\n",
    "    activations[i]=z"
   ]
  },
  {
   "cell_type": "code",
   "execution_count": 11,
   "metadata": {},
   "outputs": [
    {
     "data": {
      "image/png": "[encoded data removed]",
      "text/plain": [
       "<Figure size 432x288 with 5 Axes>"
      ]
     },
     "metadata": {
      "needs_background": "light"
     },
     "output_type": "display_data"
    }
   ],
   "source": [
    "for i,a in activations.items():\n",
    "    plt.subplot(1,len(activations),i+1)\n",
    "    plt.title(str(i+1) + \"-layer\")\n",
    "    plt.hist(a.flatten(),20,range=(0,1))\n",
    "plt.show()"
   ]
  },
  {
   "cell_type": "markdown",
   "metadata": {},
   "source": [
    "## 표현력 제한\n",
    "#### 표준편차 : 0.01"
   ]
  },
  {
   "cell_type": "code",
   "execution_count": 12,
   "metadata": {},
   "outputs": [],
   "source": [
    "x = np.random.randn(1000,100)\n",
    "node_num=100\n",
    "hidden_layer_size=5\n",
    "activations={}\n",
    "for i in range(hidden_layer_size):\n",
    "    if i != 0:\n",
    "        x = activations[i-1]\n",
    "    w = np.random.randn(node_num,node_num)*0.01\n",
    "    a = np.dot(x,w)\n",
    "    z = sigmoid(a)\n",
    "    activations[i] = z"
   ]
  },
  {
   "cell_type": "code",
   "execution_count": 13,
   "metadata": {},
   "outputs": [
    {
     "data": {
      "image/png": "[encoded data removed]",
      "text/plain": [
       "<Figure size 432x288 with 5 Axes>"
      ]
     },
     "metadata": {
      "needs_background": "light"
     },
     "output_type": "display_data"
    }
   ],
   "source": [
    "for i,a in activations.items():\n",
    "    plt.subplot(1,len(activations),i+1)\n",
    "    plt.title(str(i+1) +\"-layer\")\n",
    "    plt.hist(a.flatten(),bins=20,range=(0,1))\n",
    "plt.show()"
   ]
  },
  {
   "cell_type": "markdown",
   "metadata": {},
   "source": [
    "## Xavier 초깃값\n",
    "#### 표준편차 : 1/sqrt(n)\n",
    "**선형적 활성함수에 적용**"
   ]
  },
  {
   "cell_type": "code",
   "execution_count": 14,
   "metadata": {},
   "outputs": [],
   "source": [
    "x = np.random.randn(1000,100)\n",
    "node_num=100\n",
    "hidden_layer_size=5\n",
    "activations={}\n",
    "for i in range(hidden_layer_size):\n",
    "    if i !=0:\n",
    "        x = activations[i-1]\n",
    "    w = np.random.randn(node_num,node_num) * (1/np.sqrt(node_num))\n",
    "    a = np.dot(x,w)\n",
    "    z = sigmoid(a)\n",
    "    activations[i] = z"
   ]
  },
  {
   "cell_type": "code",
   "execution_count": 15,
   "metadata": {},
   "outputs": [
    {
     "data": {
      "image/png": "[encoded data removed]",
      "text/plain": [
       "<Figure size 432x288 with 5 Axes>"
      ]
     },
     "metadata": {
      "needs_background": "light"
     },
     "output_type": "display_data"
    }
   ],
   "source": [
    "for i,a in activations.items():\n",
    "    plt.subplot(1,len(activations),i+1)\n",
    "    plt.title(str(i+1)+\"-layer\")\n",
    "    plt.hist(a.flatten(),bins=20,range=(0,1))\n",
    "plt.show()"
   ]
  },
  {
   "cell_type": "code",
   "execution_count": 16,
   "metadata": {},
   "outputs": [],
   "source": [
    "def tanh(x):\n",
    "    return np.tanh(x)"
   ]
  },
  {
   "cell_type": "markdown",
   "metadata": {},
   "source": [
    "## tanh function 사용"
   ]
  },
  {
   "cell_type": "code",
   "execution_count": 17,
   "metadata": {},
   "outputs": [],
   "source": [
    "x = np.random.randn(1000,100)\n",
    "node_num=100\n",
    "hidden_layer_size=5\n",
    "activations={}\n",
    "for i in range(hidden_layer_size):\n",
    "    if i !=0:\n",
    "        x = activations[i-1]\n",
    "    w = np.random.randn(node_num,node_num) * (1/np.sqrt(node_num))\n",
    "    a = np.dot(x,w)\n",
    "    z = tanh(a)\n",
    "    activations[i] = z"
   ]
  },
  {
   "cell_type": "code",
   "execution_count": 18,
   "metadata": {},
   "outputs": [
    {
     "data": {
      "image/png": "[encoded data removed]",
      "text/plain": [
       "<Figure size 432x288 with 5 Axes>"
      ]
     },
     "metadata": {
      "needs_background": "light"
     },
     "output_type": "display_data"
    }
   ],
   "source": [
    "for i,a in activations.items():\n",
    "    plt.subplot(1,len(activations),i+1)\n",
    "    plt.title(str(i+1)+\"-layer\")\n",
    "    plt.hist(a.flatten(),bins=20,range=(-1,1))\n",
    "plt.show()"
   ]
  },
  {
   "cell_type": "markdown",
   "metadata": {},
   "source": [
    "## He 초깃값 & Relu Activation functoin\n",
    "#### 표준편차 : sqrt(2/n)"
   ]
  },
  {
   "cell_type": "code",
   "execution_count": 19,
   "metadata": {},
   "outputs": [],
   "source": [
    "def Relu(x):\n",
    "    mask = 0>x\n",
    "    x[mask]=0\n",
    "    return x"
   ]
  },
  {
   "cell_type": "code",
   "execution_count": 20,
   "metadata": {},
   "outputs": [],
   "source": [
    "def relu(x):\n",
    "    return np.maximum(0, x)"
   ]
  },
  {
   "cell_type": "code",
   "execution_count": 52,
   "metadata": {},
   "outputs": [],
   "source": [
    "x = np.random.randn(1000,100)\n",
    "node_num=100\n",
    "hidden_layer_size=5\n",
    "activations={}\n",
    "activations[\"0.01\"]={}\n",
    "activations[\"Xavier\"]={}\n",
    "activations[\"He\"]={}\n",
    "\n",
    "for i in range(hidden_layer_size):\n",
    "    if i !=0:\n",
    "        x = activations[\"0.01\"][i-1]\n",
    "    #w = np.random.randn(node_num,node_num) * np.sqrt(2.0/node_num)\n",
    "    w = np.random.randn(node_num,node_num) * 0.01\n",
    "    #w = np.random.randn(node_num,node_num) * (1/np.sqrt(node_num))\n",
    "    a = np.dot(x,w)\n",
    "    z = Relu(a)\n",
    "    activations[\"0.01\"][i] = z\n",
    "    \n",
    "for i in range(hidden_layer_size):\n",
    "    if i !=0:\n",
    "        x = activations[\"Xavier\"][i-1]\n",
    "    #w = np.random.randn(node_num,node_num) * np.sqrt(2.0/node_num)\n",
    "    #w = np.random.randn(node_num,node_num) * 0.01\n",
    "    w = np.random.randn(node_num,node_num)/np.sqrt(node_num)\n",
    "    a = np.dot(x,w)\n",
    "    z = Relu(a)\n",
    "    activations[\"Xavier\"][i] = z\n",
    "\n",
    "for i in range(hidden_layer_size):\n",
    "    if i !=0:\n",
    "        x = activations[\"He\"][i-1]\n",
    "    w = np.random.randn(node_num,node_num) * np.sqrt(2.0/node_num)\n",
    "    #w = np.random.randn(node_num,node_num) * 0.01\n",
    "    #w = np.random.randn(node_num,node_num) * (1/np.sqrt(node_num))\n",
    "    a = np.dot(x,w)\n",
    "    z = Relu(a)\n",
    "    activations[\"He\"][i] = z"
   ]
  },
  {
   "cell_type": "code",
   "execution_count": 53,
   "metadata": {},
   "outputs": [
    {
     "data": {
      "image/png": "[encoded data removed]",
      "text/plain": [
       "<Figure size 432x288 with 15 Axes>"
      ]
     },
     "metadata": {
      "needs_background": "light"
     },
     "output_type": "display_data"
    }
   ],
   "source": [
    "for i,a in activations[\"0.01\"].items():\n",
    "    plt.subplot(3,len(activations[\"0.01\"]),i+1)\n",
    "    plt.title(str(i+1)+\"-layer\")\n",
    "    plt.hist(a.flatten(),bins=30,range=(0,1))\n",
    "\n",
    "for i,a in activations[\"Xavier\"].items():\n",
    "    plt.subplot(3,len(activations[\"0.01\"]),hidden_layer_size +i+1)\n",
    "    plt.title(str(1+i)+\"-layer\")\n",
    "    plt.hist(a.flatten(),bins=30,range=(0,1))\n",
    "    \n",
    "for i,a in activations[\"He\"].items():\n",
    "    plt.subplot(3,len(activations[\"0.01\"]),hidden_layer_size*2 +i+1)\n",
    "    plt.title(str(1+i)+\"-layer\")\n",
    "    plt.hist(a.flatten(),bins=30,range=(0,1))\n",
    "plt.show()"
   ]
  },
  {
   "cell_type": "markdown",
   "metadata": {},
   "source": [
    "## Overfitting(과적합)\n",
    "* 매개변수가 많고 표현력이 높은 모델(복잡한 모델)\n",
    "* 훈련 데이터가 적은 경우"
   ]
  },
  {
   "cell_type": "code",
   "execution_count": 76,
   "metadata": {},
   "outputs": [],
   "source": [
    "import sys,os\n",
    "sys.path.append(os.curdir)\n",
    "from dataset.mnist import load_mnist\n",
    "from common.multi_layer_net import MultiLayerNet\n",
    "from common.optimizer import SGD"
   ]
  },
  {
   "cell_type": "code",
   "execution_count": 77,
   "metadata": {},
   "outputs": [],
   "source": [
    "# class SGD:\n",
    "#     def __init__(self,lr=0.01):\n",
    "#         self.lr=lr\n",
    "#         return\n",
    "#     def update(self,params,grads):\n",
    "#         for i in params.keys():\n",
    "#             params[i] = params[i] - (self.lr*grads[i])\n",
    "#         return"
   ]
  },
  {
   "cell_type": "code",
   "execution_count": 78,
   "metadata": {},
   "outputs": [],
   "source": [
    "(x_train,t_train),(x_test,t_test)= load_mnist(normalize=True)\n",
    "x_train = x_train[:300]\n",
    "t_train = t_train[:300]\n",
    "\n",
    "network = MultiLayerNet(input_size=784,hidden_size_list=[100,100,100,100,100,100],output_size=10)\n",
    "optimizer = SGD(0.01)\n",
    "max_epochs=201\n",
    "train_size= x_train.shape[0]\n",
    "batch_size=100\n",
    "train_acc_list=[]\n",
    "train_loss_list=[]\n",
    "test_acc_list=[]\n",
    "\n",
    "iter_per_epoch = max(1,train_size/batch_size)\n",
    "epoch_cnt=0\n",
    "\n",
    "for i in range(10000000):\n",
    "    batch_mask = np.random.choice(train_size,batch_size)\n",
    "    x_batch = x_train[batch_mask]\n",
    "    t_batch = t_train[batch_mask]\n",
    "    \n",
    "    grads = network.gradient(x_batch,t_batch)\n",
    "    optimizer.update(network.params,grads)\n",
    "    \n",
    "    if i % iter_per_epoch==0:\n",
    "        train_acc = network.accuracy(x_train,t_train)\n",
    "        test_acc = network.accuracy(x_test,t_test)\n",
    "        train_acc_list.append(train_acc)\n",
    "        test_acc_list.append(test_acc)\n",
    "        \n",
    "        epoch_cnt+=1\n",
    "        if epoch_cnt >= max_epochs:\n",
    "            break"
   ]
  },
  {
   "cell_type": "code",
   "execution_count": 81,
   "metadata": {},
   "outputs": [
    {
     "data": {
      "image/png": "[encoded data removed]",
      "text/plain": [
       "<Figure size 432x288 with 1 Axes>"
      ]
     },
     "metadata": {
      "needs_background": "light"
     },
     "output_type": "display_data"
    }
   ],
   "source": [
    "plt.plot(train_acc_list)\n",
    "plt.plot(test_acc_list)\n",
    "plt.show()"
   ]
  },
  {
   "cell_type": "code",
   "execution_count": 80,
   "metadata": {},
   "outputs": [
    {
     "data": {
      "text/plain": [
       "[0.11333333333333333,\n",
       " 0.11333333333333333,\n",
       " 0.11666666666666667,\n",
       " 0.11666666666666667,\n",
       " 0.13333333333333333,\n",
       " 0.14333333333333334,\n",
       " 0.15333333333333332,\n",
       " 0.19,\n",
       " 0.20666666666666667,\n",
       " 0.23666666666666666,\n",
       " 0.26,\n",
       " 0.3,\n",
       " 0.3333333333333333,\n",
       " 0.36,\n",
       " 0.37666666666666665,\n",
       " 0.3933333333333333,\n",
       " 0.43333333333333335,\n",
       " 0.47333333333333333,\n",
       " 0.5033333333333333,\n",
       " 0.5266666666666666,\n",
       " 0.5633333333333334,\n",
       " 0.59,\n",
       " 0.5966666666666667,\n",
       " 0.6033333333333334,\n",
       " 0.63,\n",
       " 0.6633333333333333,\n",
       " 0.67,\n",
       " 0.6966666666666667,\n",
       " 0.7366666666666667,\n",
       " 0.76,\n",
       " 0.7933333333333333,\n",
       " 0.7833333333333333,\n",
       " 0.79,\n",
       " 0.7966666666666666,\n",
       " 0.8233333333333334,\n",
       " 0.83,\n",
       " 0.83,\n",
       " 0.84,\n",
       " 0.8466666666666667,\n",
       " 0.8633333333333333,\n",
       " 0.8733333333333333,\n",
       " 0.8533333333333334,\n",
       " 0.8666666666666667,\n",
       " 0.8733333333333333,\n",
       " 0.8766666666666667,\n",
       " 0.88,\n",
       " 0.8833333333333333,\n",
       " 0.89,\n",
       " 0.88,\n",
       " 0.8833333333333333,\n",
       " 0.9,\n",
       " 0.8933333333333333,\n",
       " 0.9,\n",
       " 0.9166666666666666,\n",
       " 0.9166666666666666,\n",
       " 0.91,\n",
       " 0.9166666666666666,\n",
       " 0.9133333333333333,\n",
       " 0.9266666666666666,\n",
       " 0.9266666666666666,\n",
       " 0.93,\n",
       " 0.93,\n",
       " 0.9433333333333334,\n",
       " 0.9433333333333334,\n",
       " 0.95,\n",
       " 0.95,\n",
       " 0.9566666666666667,\n",
       " 0.96,\n",
       " 0.96,\n",
       " 0.9633333333333334,\n",
       " 0.96,\n",
       " 0.9633333333333334,\n",
       " 0.9766666666666667,\n",
       " 0.9666666666666667,\n",
       " 0.9666666666666667,\n",
       " 0.9733333333333334,\n",
       " 0.9733333333333334,\n",
       " 0.9766666666666667,\n",
       " 0.98,\n",
       " 0.9833333333333333,\n",
       " 0.9866666666666667,\n",
       " 0.9833333333333333,\n",
       " 0.9833333333333333,\n",
       " 0.9866666666666667,\n",
       " 0.99,\n",
       " 0.9866666666666667,\n",
       " 0.9866666666666667,\n",
       " 0.98,\n",
       " 0.9833333333333333,\n",
       " 0.99,\n",
       " 0.99,\n",
       " 0.99,\n",
       " 0.9933333333333333,\n",
       " 0.9933333333333333,\n",
       " 0.9966666666666667,\n",
       " 0.9933333333333333,\n",
       " 0.99,\n",
       " 0.9933333333333333,\n",
       " 0.9966666666666667,\n",
       " 0.9933333333333333,\n",
       " 0.9966666666666667,\n",
       " 0.9933333333333333,\n",
       " 0.9966666666666667,\n",
       " 0.9966666666666667,\n",
       " 0.9966666666666667,\n",
       " 0.9966666666666667,\n",
       " 0.9966666666666667,\n",
       " 0.9966666666666667,\n",
       " 0.9933333333333333,\n",
       " 0.9966666666666667,\n",
       " 0.9966666666666667,\n",
       " 1.0,\n",
       " 1.0,\n",
       " 1.0,\n",
       " 0.9966666666666667,\n",
       " 1.0,\n",
       " 1.0,\n",
       " 1.0,\n",
       " 1.0,\n",
       " 1.0,\n",
       " 1.0,\n",
       " 1.0,\n",
       " 1.0,\n",
       " 1.0,\n",
       " 1.0,\n",
       " 1.0,\n",
       " 1.0,\n",
       " 1.0,\n",
       " 1.0,\n",
       " 1.0,\n",
       " 1.0,\n",
       " 1.0,\n",
       " 1.0,\n",
       " 1.0,\n",
       " 1.0,\n",
       " 1.0,\n",
       " 1.0,\n",
       " 1.0,\n",
       " 1.0,\n",
       " 1.0,\n",
       " 1.0,\n",
       " 1.0,\n",
       " 1.0,\n",
       " 1.0,\n",
       " 1.0,\n",
       " 1.0,\n",
       " 1.0,\n",
       " 1.0,\n",
       " 1.0,\n",
       " 1.0,\n",
       " 1.0,\n",
       " 1.0,\n",
       " 1.0,\n",
       " 1.0,\n",
       " 1.0,\n",
       " 1.0,\n",
       " 1.0,\n",
       " 1.0,\n",
       " 1.0,\n",
       " 1.0,\n",
       " 1.0,\n",
       " 1.0,\n",
       " 1.0,\n",
       " 1.0,\n",
       " 1.0,\n",
       " 1.0,\n",
       " 1.0,\n",
       " 1.0,\n",
       " 1.0,\n",
       " 1.0,\n",
       " 1.0,\n",
       " 1.0,\n",
       " 1.0,\n",
       " 1.0,\n",
       " 1.0,\n",
       " 1.0,\n",
       " 1.0,\n",
       " 1.0,\n",
       " 1.0,\n",
       " 1.0,\n",
       " 1.0,\n",
       " 1.0,\n",
       " 1.0,\n",
       " 1.0,\n",
       " 1.0,\n",
       " 1.0,\n",
       " 1.0,\n",
       " 1.0,\n",
       " 1.0,\n",
       " 1.0,\n",
       " 1.0,\n",
       " 1.0,\n",
       " 1.0,\n",
       " 1.0,\n",
       " 1.0,\n",
       " 1.0,\n",
       " 1.0,\n",
       " 1.0,\n",
       " 1.0,\n",
       " 1.0,\n",
       " 1.0]"
      ]
     },
     "execution_count": 80,
     "metadata": {},
     "output_type": "execute_result"
    }
   ],
   "source": [
    "train_acc_list"
   ]
  },
  {
   "cell_type": "code",
   "execution_count": null,
   "metadata": {},
   "outputs": [],
   "source": []
  }
 ],
 "metadata": {
  "kernelspec": {
   "display_name": "Python 3",
   "language": "python",
   "name": "python3"
  },
  "language_info": {
   "codemirror_mode": {
    "name": "ipython",
    "version": 3
   },
   "file_extension": ".py",
   "mimetype": "text/x-python",
   "name": "python",
   "nbconvert_exporter": "python",
   "pygments_lexer": "ipython3",
   "version": "3.8.3"
  }
 },
 "nbformat": 4,
 "nbformat_minor": 4
}
